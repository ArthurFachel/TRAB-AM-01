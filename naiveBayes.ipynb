{
 "cells": [
  {
   "cell_type": "code",
   "execution_count": 1,
   "id": "79539a96",
   "metadata": {},
   "outputs": [],
   "source": [
    "import pandas as pd\n",
    "import numpy as np\n",
    "from sklearn.pipeline import Pipeline\n",
    "from sklearn.impute import SimpleImputer # Usaremos o SimpleImputer para a média\n",
    "from sklearn.compose import ColumnTransformer\n",
    "from sklearn.preprocessing import StandardScaler, OneHotEncoder\n",
    "from sklearn.model_selection import train_test_split\n",
    "from sklearn.naive_bayes import GaussianNB # Importamos o modelo Gaussian Naive Bayes\n",
    "from sklearn.metrics import accuracy_score, precision_score, recall_score, f1_score, classification_report, confusion_matrix\n",
    "import seaborn as sns\n",
    "import matplotlib.pyplot as plt"
   ]
  },
  {
   "cell_type": "code",
   "execution_count": null,
   "id": "7d6ec223",
   "metadata": {},
   "outputs": [],
   "source": [
    "# 1. Carregamento e Limpeza Inicial \n",
    "df = pd.read_csv('heart.csv')\n",
    "df.columns = df.columns.str.strip()\n",
    "df['Cholesterol'] = df['Cholesterol'].replace(0, np.nan)\n",
    "\n",
    "X = df.drop('HeartDisease', axis=1)\n",
    "y = df['HeartDisease']\n",
    "\n",
    "numerical_features = ['Age', 'RestingBP', 'Cholesterol', 'MaxHR', 'Oldpeak']\n",
    "categorical_features = ['Sex', 'ChestPainType', 'FastingBS', 'RestingECG', 'ExerciseAngina', 'ST_Slope']\n",
    "X['FastingBS'] = X['FastingBS'].astype(str)"
   ]
  },
  {
   "cell_type": "code",
   "execution_count": null,
   "id": "0273f084",
   "metadata": {},
   "outputs": [
    {
     "name": "stdout",
     "output_type": "stream",
     "text": [
      "--- Dados pré-processados com a estratégia para Naive Bayes ---\n",
      "\n"
     ]
    }
   ],
   "source": [
    "# 2. Construção do Pipeline para Naive Bayes\n",
    "\n",
    "# Pipeline para features NUMÉRICAS:\n",
    "# Passo 1: Imputar dados ausentes com a MÉDIA da coluna.\n",
    "# Passo 2: Normalizar os dados (opcional para Naive Bayes, mas bom para consistência).\n",
    "numeric_transformer_nb = Pipeline(steps=[\n",
    "    ('imputer', SimpleImputer(strategy='mean')),\n",
    "    ('scaler', StandardScaler())\n",
    "])\n",
    "\n",
    "# Pipeline para features CATEGÓRICAS \n",
    "categorical_transformer_nb = Pipeline(steps=[\n",
    "    ('onehot', OneHotEncoder(handle_unknown='ignore', drop='first'))\n",
    "])\n",
    "\n",
    "# Combinar os pipelines\n",
    "preprocessor_nb = ColumnTransformer(\n",
    "    transformers=[\n",
    "        ('num', numeric_transformer_nb, numerical_features),\n",
    "        ('cat', categorical_transformer_nb, categorical_features)\n",
    "    ],\n",
    "    remainder='passthrough'\n",
    ")\n",
    "\n",
    "# Aplicar o pipeline de pré-processamento\n",
    "X_processed_nb = preprocessor_nb.fit_transform(X)\n"
   ]
  },
  {
   "cell_type": "code",
   "execution_count": 5,
   "id": "7e25d761",
   "metadata": {},
   "outputs": [
    {
     "name": "stdout",
     "output_type": "stream",
     "text": [
      "Dados divididos em 734 amostras de treino e 184 de teste.\n",
      "\n"
     ]
    }
   ],
   "source": [
    "# --- 3. Divisão, Treinamento e Avaliação ---\n",
    "\n",
    "# 3.1 Divisão dos Dados em Treino e Teste\n",
    "X_train, X_test, y_train, y_test = train_test_split(X_processed_nb, y, test_size=0.2, random_state=42, stratify=y)\n",
    "print(f\"Dados divididos em {X_train.shape[0]} amostras de treino e {X_test.shape[0]} de teste.\\n\")"
   ]
  },
  {
   "cell_type": "code",
   "execution_count": null,
   "id": "f3317638",
   "metadata": {},
   "outputs": [
    {
     "name": "stdout",
     "output_type": "stream",
     "text": [
      "--- Modelo Naive Bayes treinado com sucesso! ---\n",
      "\n"
     ]
    }
   ],
   "source": [
    "# 3.2 Treinamento do Modelo Naive Bayes\n",
    "nb_model = GaussianNB()\n",
    "nb_model.fit(X_train, y_train)"
   ]
  },
  {
   "cell_type": "code",
   "execution_count": 7,
   "id": "911f3ee5",
   "metadata": {},
   "outputs": [
    {
     "name": "stdout",
     "output_type": "stream",
     "text": [
      "--- Métricas de Avaliação do Modelo Naive Bayes ---\n",
      "Acurácia: 0.8750\n",
      "Precisão: 0.9072\n",
      "Recall (Sensibilidade): 0.8627\n",
      "F1-Score: 0.8844\n",
      "\n",
      "--- Relatório de Classificação ---\n",
      "                precision    recall  f1-score   support\n",
      "\n",
      "Não Doente (0)       0.84      0.89      0.86        82\n",
      "    Doente (1)       0.91      0.86      0.88       102\n",
      "\n",
      "      accuracy                           0.88       184\n",
      "     macro avg       0.87      0.88      0.87       184\n",
      "  weighted avg       0.88      0.88      0.88       184\n",
      "\n"
     ]
    }
   ],
   "source": [
    "# 3.3 Previsões e Avaliação no Conjunto de Teste\n",
    "y_pred_nb = nb_model.predict(X_test)\n",
    "\n",
    "# Calcular as métricas de performance\n",
    "accuracy_nb = accuracy_score(y_test, y_pred_nb)\n",
    "precision_nb = precision_score(y_test, y_pred_nb)\n",
    "recall_nb = recall_score(y_test, y_pred_nb)\n",
    "f1_nb = f1_score(y_test, y_pred_nb)\n",
    "\n",
    "print(\"--- Métricas de Avaliação do Modelo Naive Bayes ---\")\n",
    "print(f\"Acurácia: {accuracy_nb:.4f}\")\n",
    "print(f\"Precisão: {precision_nb:.4f}\")\n",
    "print(f\"Recall (Sensibilidade): {recall_nb:.4f}\")\n",
    "print(f\"F1-Score: {f1_nb:.4f}\\n\")\n",
    "\n",
    "# Relatório de Classificação\n",
    "print(\"--- Relatório de Classificação ---\")\n",
    "print(classification_report(y_test, y_pred_nb, target_names=['Não Doente (0)', 'Doente (1)']))\n"
   ]
  },
  {
   "cell_type": "code",
   "execution_count": 9,
   "id": "53765f05",
   "metadata": {},
   "outputs": [
    {
     "name": "stdout",
     "output_type": "stream",
     "text": [
      "--- Matriz de Confusão ---\n"
     ]
    },
    {
     "data": {
      "image/png": "[encoded data removed]",
      "text/plain": [
       "<Figure size 800x600 with 2 Axes>"
      ]
     },
     "metadata": {},
     "output_type": "display_data"
    }
   ],
   "source": [
    "# 3.4 Visualização da Matriz de Confusão\n",
    "print(\"--- Matriz de Confusão ---\")\n",
    "cm_nb = confusion_matrix(y_test, y_pred_nb)\n",
    "plt.figure(figsize=(8, 6))\n",
    "sns.heatmap(cm_nb, annot=True, fmt='d', cmap='Blues', \n",
    "            xticklabels=['Não Doente', 'Doente'], \n",
    "            yticklabels=['Não Doente', 'Doente'])\n",
    "            \n",
    "plt.xlabel('Previsão do Modelo')\n",
    "plt.ylabel('Rótulo Verdadeiro')\n",
    "plt.title('Matriz de Confusão - Naive Bayes')\n",
    "plt.show()"
   ]
  }
 ],
 "metadata": {
  "kernelspec": {
   "display_name": "Python 3",
   "language": "python",
   "name": "python3"
  },
  "language_info": {
   "codemirror_mode": {
    "name": "ipython",
    "version": 3
   },
   "file_extension": ".py",
   "mimetype": "text/x-python",
   "name": "python",
   "nbconvert_exporter": "python",
   "pygments_lexer": "ipython3",
   "version": "3.9.6"
  }
 },
 "nbformat": 4,
 "nbformat_minor": 5
}
