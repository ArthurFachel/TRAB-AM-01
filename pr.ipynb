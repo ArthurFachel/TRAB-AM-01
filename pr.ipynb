{
 "cells": [
  {
   "cell_type": "code",
   "execution_count": null,
   "id": "7ed62999",
   "metadata": {},
   "outputs": [],
   "source": [
    "import pandas as pd\n",
    "import matplotlib.pyplot as plt\n",
    "from sklearn.model_selection import train_test_split\n",
    "from sklearn.preprocessing import StandardScaler\n",
    "from sklearn.naive_bayes import GaussianNB\n",
    "from sklearn.neighbors import KNeighborsClassifier\n",
    "import numpy as np\n",
    "from sklearn.tree import DecisionTreeClassifier\n",
    "from sklearn.metrics import accuracy_score, confusion_matrix\n",
    "import seaborn as sns"
   ]
  },
  {
   "cell_type": "code",
   "execution_count": 84,
   "id": "9fa0e572",
   "metadata": {},
   "outputs": [],
   "source": [
    "\n",
    "df_train = pd.read_csv('/C-SSD/fachel/arthur/TRAB-AM-01/heartTrain.csv')\n",
    "df_test = pd.read_csv('/C-SSD/fachel/arthur/TRAB-AM-01/heartTeste.csv')"
   ]
  },
  {
   "cell_type": "code",
   "execution_count": 85,
   "id": "80cda0b5",
   "metadata": {},
   "outputs": [],
   "source": [
    "mediana_colesterol = df_train['Cholesterol'].median()"
   ]
  },
  {
   "cell_type": "code",
   "execution_count": 86,
   "id": "bf844d9a",
   "metadata": {},
   "outputs": [
    {
     "name": "stderr",
     "output_type": "stream",
     "text": [
      "/tmp/ipykernel_3139012/2447192199.py:4: FutureWarning: A value is trying to be set on a copy of a DataFrame or Series through chained assignment using an inplace method.\n",
      "The behavior will change in pandas 3.0. This inplace method will never work because the intermediate object on which we are setting values always behaves as a copy.\n",
      "\n",
      "For example, when doing 'df[col].method(value, inplace=True)', try using 'df.method({col: value}, inplace=True)' or df[col] = df[col].method(value) instead, to perform the operation inplace on the original object.\n",
      "\n",
      "\n",
      "  X_train_full['Cholesterol'].fillna(mediana_colesterol, inplace=True)\n"
     ]
    }
   ],
   "source": [
    "y_train_full = df_train['HeartDisease']\n",
    "X_train_full = df_train.drop('HeartDisease', axis=1)\n",
    "X_test_final = df_test.drop('HeartDisease', axis=1, errors='ignore')\n",
    "X_train_full['Cholesterol'].fillna(mediana_colesterol, inplace=True)"
   ]
  },
  {
   "cell_type": "code",
   "execution_count": 87,
   "id": "9c822fc3",
   "metadata": {},
   "outputs": [],
   "source": [
    "categorical_cols = ['Sex', 'ChestPainType', 'RestingECG', 'ExerciseAngina', 'ST_Slope']\n",
    "numeric_cols = ['Age', 'RestingBP', 'Cholesterol', 'MaxHR', 'Oldpeak']\n",
    "\n",
    "X_train_Standard = pd.get_dummies(X_train_full, columns=categorical_cols, drop_first=True)\n",
    "X_test_Standard = pd.get_dummies(X_test_final, columns=categorical_cols, drop_first=True)\n",
    "X_test_Standard = X_test_Standard.reindex(columns=X_train_Standard.columns, fill_value=0)\n"
   ]
  },
  {
   "cell_type": "code",
   "execution_count": 88,
   "id": "dda64a69",
   "metadata": {},
   "outputs": [],
   "source": [
    "\n",
    "standarScaler = StandardScaler()\n",
    "X_train_Standard[numeric_cols] = standarScaler.fit_transform(X_train_Standard[numeric_cols])\n",
    "X_test_Standard[numeric_cols] = standarScaler.transform(X_test_Standard[numeric_cols])"
   ]
  },
  {
   "cell_type": "code",
   "execution_count": 89,
   "id": "9b41ca1b",
   "metadata": {},
   "outputs": [],
   "source": [
    "X_train_std, X_val_std, y_train_std, y_val_std = train_test_split(\n",
    "    X_train_Standard, y_train_full, test_size=0.3, random_state=42, stratify=y_train_full\n",
    ")"
   ]
  },
  {
   "cell_type": "code",
   "execution_count": 90,
   "id": "fb0cc27c",
   "metadata": {},
   "outputs": [],
   "source": [
    "model = DecisionTreeClassifier(random_state=42, criterion='gini', max_depth=5, min_samples_split=10)\n"
   ]
  },
  {
   "cell_type": "code",
   "execution_count": null,
   "id": "11b046a7",
   "metadata": {},
   "outputs": [
    {
     "name": "stdout",
     "output_type": "stream",
     "text": [
      "Acurácia do modelo com Standard: 0.8370\n"
     ]
    }
   ],
   "source": [
    "model.fit(X_train_std, y_train_std)\n",
    "y_pred_std = model.predict(X_val_std)\n",
    "accuracy_Std = accuracy_score(y_val_std, y_pred_std)\n",
    "print(f\"Acurácia do modelo com Standard: {accuracy_Std:.4f}\")\n"
   ]
  },
  {
   "cell_type": "code",
   "execution_count": 94,
   "id": "a59b6a3e",
   "metadata": {},
   "outputs": [
    {
     "data": {
      "image/png": "[encoded data removed]",
      "text/plain": [
       "<Figure size 800x600 with 1 Axes>"
      ]
     },
     "metadata": {},
     "output_type": "display_data"
    }
   ],
   "source": [
    "cm = confusion_matrix(y_val_std, y_pred_std)\n",
    "\n",
    "# b) Criar o mapa de calor\n",
    "plt.figure(figsize=(8, 6))\n",
    "sns.heatmap(cm, annot=True, fmt='d', cmap='Blues', cbar=False)\n",
    "\n",
    "# c) Adicionar rótulos para melhor compreensão\n",
    "plt.title('Matriz de Confusão', fontsize=16)\n",
    "plt.xlabel('Valores Preditos', fontsize=12)\n",
    "plt.ylabel('Valores Reais', fontsize=12)\n",
    "\n",
    "# Rotulando TP, TN, FP, FN\n",
    "class_names = ['Negativo', 'Positivo']\n",
    "tick_marks = np.arange(len(class_names))\n",
    "plt.xticks(tick_marks, class_names, rotation=0)\n",
    "plt.yticks(tick_marks, class_names, rotation=0)\n",
    "\n",
    "# Para maior clareza, você pode adicionar anotações personalizadas.\n",
    "# Aqui está a estrutura da matriz de confusão:\n",
    "# TN | FP\n",
    "# FN | TP\n",
    "\n",
    "\n",
    "plt.tight_layout()\n",
    "plt.show()"
   ]
  },
  {
   "cell_type": "code",
   "execution_count": null,
   "id": "c2796a96",
   "metadata": {},
   "outputs": [],
   "source": []
  },
  {
   "cell_type": "code",
   "execution_count": null,
   "id": "f3b8a0c6",
   "metadata": {},
   "outputs": [],
   "source": []
  },
  {
   "cell_type": "code",
   "execution_count": null,
   "id": "34325bb4",
   "metadata": {},
   "outputs": [],
   "source": []
  }
 ],
 "metadata": {
  "kernelspec": {
   "display_name": "pytorch",
   "language": "python",
   "name": "python3"
  },
  "language_info": {
   "codemirror_mode": {
    "name": "ipython",
    "version": 3
   },
   "file_extension": ".py",
   "mimetype": "text/x-python",
   "name": "python",
   "nbconvert_exporter": "python",
   "pygments_lexer": "ipython3",
   "version": "3.13.2"
  }
 },
 "nbformat": 4,
 "nbformat_minor": 5
}
